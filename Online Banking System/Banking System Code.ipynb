{
 "cells": [
  {
   "cell_type": "markdown",
   "id": "65321027",
   "metadata": {},
   "source": [
    "### Python OOP (class)\n",
    "\n",
    "The code below implements an online banking system. \n",
    "Where users can sign up, log in and change their password their account with the system. \n",
    "They can also update their bank account balance and transfer money to another user’s bank account.\n",
    "\n",
    "Implementing functions related to File I/O and dictionaries, \n",
    "The first two functions imports files and create dictionaries by importing user information from the “users.txt” file and account information from the “bank.txt” file. \n",
    "The remaining functions make use/modify the two dictionaries created from the files.\n"
   ]
  },
  {
   "cell_type": "code",
   "execution_count": 1,
   "id": "23a49427",
   "metadata": {},
   "outputs": [],
   "source": [
    "class system():\n",
    "    def __init__(self,bankdata,userdata):\n",
    "        #defining the global variables\n",
    "        self.bank = None \n",
    "        self.user_accounts = None\n",
    "        self.log_in = None\n",
    "        #above variables are all dict\n",
    "        self.input_username = None\n",
    "        self.data1=bankdata\n",
    "        self.data2=userdata\n",
    "        \n",
    "    def import_and_create_bank(self): \n",
    "        #This function is used to create a bank dictionary.\n",
    "        #The key is a user's name and the value is an amount(number) to update the user's bank account.\n",
    "        self.bank = {}\n",
    "        f = open(self.data1)\n",
    "        lines = f.readlines()\n",
    "\n",
    "        for line in lines:\n",
    "            lst = line.strip().split(\":\") #removing whitespaces\n",
    "            if len(lst)<=1: #ignore line with invalid data\n",
    "                continue\n",
    "\n",
    "            key= lst[0].strip()\n",
    "            value = lst[1].strip()\n",
    "\n",
    "            try:\n",
    "                value= float(value)\n",
    "                self.bank[key]= self.bank.get(key,0) + value\n",
    "            except:\n",
    "                continue\n",
    "            \n",
    "        f.close()\n",
    "        return self.bank\n",
    "    \n",
    "    \n",
    "    \n",
    "    def initial_signup(self,username, password):\n",
    "         #This function updates the username and the corresponding password(txt files) to the user_accounts dictionary.\n",
    "        if username not in self.user_accounts and self.valid(password) and username != password:\n",
    "            self.user_accounts[username] = password\n",
    "            self.log_in[username]= False\n",
    "            return \"Success\"\n",
    "        else:\n",
    "            return False\n",
    "        \n",
    "    \n",
    "    def signup(self):\n",
    "         #This function allows new users to sign up.\n",
    "        #updates the user_accounts dictionary and log_in setting to False.\n",
    "        self.input_username = input(\"Enter new_username: \")\n",
    "        password= input(\"Enter password: \")\n",
    "        if self.input_username not in self.user_accounts and self.valid(password) and self.input_username != password:\n",
    "            self.user_accounts[self.input_username] = password\n",
    "            #print(self.user_accounts)\n",
    "            self.log_in[self.input_username]= False\n",
    "            print(\"Account created successfully\")\n",
    "        else:\n",
    "            return False\n",
    "    \n",
    "\n",
    "    def valid(self,password):\n",
    "        #this function sets the conditions for the validity of password.\n",
    "        if len(password)<8:\n",
    "            return False\n",
    "        elif any(x.islower() for x in password) == True and any(y.isupper() for y in password) == True and any(z.isdigit() for z in password) == True:\n",
    "            return True\n",
    "        return False\n",
    "    \n",
    "    \n",
    "    \n",
    "    def import_and_create_accounts(self):\n",
    "        #This function is used to create a user accounts & login dictionary.\n",
    "        #with the username as key and password as value.\n",
    "        self.user_accounts = {}\n",
    "        self.log_in = {}\n",
    "\n",
    "        with open(self.data2, \"r\") as f: #loading data\n",
    "            lines = f.readlines()\n",
    "            for line in lines:\n",
    "                lst = line.strip().split(\"-\")\n",
    "                if len(lst)<=1:\n",
    "                    continue\n",
    "                username = lst[0].strip()\n",
    "                password = lst[1].strip()\n",
    "                self.initial_signup(username,password)\n",
    "        return self.user_accounts, self.log_in\n",
    "    \n",
    "    \n",
    "    def login(self): #this function allows users to login with their username and password.\n",
    "        self.input_username = input(\"Enter username: \")\n",
    "        password = input(\"Enter password: \")\n",
    "        if self.input_username in self.user_accounts and self.valid(password) and self.user_accounts[self.input_username] == password: #you have to verify that the password is the right one\n",
    "            self.user_accounts[self.input_username] = True\n",
    "            self.log_in[self.input_username]= True\n",
    "            return \"Done\"\n",
    "        else: \n",
    "            print(\"Account doesnt exist,please Sign up\")\n",
    "            self.signup() #redirect user to create account\n",
    "            \n",
    "    \n",
    "    def islogged_in(self):\n",
    "        return self.log_in.get(self.input_username,False)\n",
    "    \n",
    "    \n",
    "    def update(self):\n",
    "        #this function, allows user to add given amount to bank account.\n",
    "        if self.islogged_in():\n",
    "            amount = float(input(\"Enter amount: \"))\n",
    "            if amount >=0:\n",
    "                self.bank[self.input_username]=self.bank.get(self.input_username,0) + amount\n",
    "            return \"Account balance is {}\".format(self.bank[self.input_username])\n",
    "        else:\n",
    "            return \"Unsuccessful\"\n",
    "        \n",
    "    \n",
    "    def balance(self): #returns user accounts balance using dictionary method get\n",
    "        return self.bank.get(self.input_username,0)\n",
    "    \n",
    "    \n",
    "    def transfer(self): #allows transfer of funds between two existing user accounts\n",
    "        userA =input(\"Enter user A name: \")\n",
    "        userB =input(\"Enter user B name: \")\n",
    "        amount = int(input(\"Amount to transfer: \"))\n",
    "\n",
    "        if self.bank[userA] > amount and (self.bank[userA]-amount)>=0: #user must have positive/zero balance after transfer\n",
    "            self.bank[userB] = self.bank.get(userB,0)\n",
    "            self.bank[userA] = self.bank[userA] - amount\n",
    "            self.bank[userB] = self.bank[userB] + amount\n",
    "            return \"Money Transfered Successfully\"\n",
    "        else:\n",
    "            return \"Operation Failed\"\n",
    "        \n",
    "    \n",
    "    def delete_account(self):\n",
    "        username = input(\"Enter username: \")\n",
    "        password = input(\"Enter password: \")\n",
    "        if username in user_accounts and valid(password) and log_in == True:\n",
    "            self.user_accounts.pop(self.input_username)\n",
    "            self.log_in.pop(self.input_username)\n",
    "            self.bank.pop(self.input_username)\n",
    "            print(\"Account deleted\")\n",
    "        else:\n",
    "            return \"unsuccessful\"\n",
    "    \n",
    "    \n",
    "    "
   ]
  },
  {
   "cell_type": "code",
   "execution_count": 2,
   "id": "10c721cd",
   "metadata": {},
   "outputs": [],
   "source": [
    "o_bs = system(\"bank.txt\", \"user.txt\")"
   ]
  },
  {
   "cell_type": "code",
   "execution_count": 3,
   "id": "12ccc857",
   "metadata": {},
   "outputs": [
    {
     "data": {
      "text/plain": [
       "{'Brandon': 115.5,\n",
       " 'Patrick': 18.9,\n",
       " 'Sarah': 827.43,\n",
       " 'Jack': 45.0,\n",
       " 'James': 128.87}"
      ]
     },
     "execution_count": 3,
     "metadata": {},
     "output_type": "execute_result"
    }
   ],
   "source": [
    "o_bs.import_and_create_bank()"
   ]
  },
  {
   "cell_type": "code",
   "execution_count": 4,
   "id": "8b21578d",
   "metadata": {},
   "outputs": [
    {
     "data": {
      "text/plain": [
       "{'Brandon': 115.5,\n",
       " 'Patrick': 18.9,\n",
       " 'Sarah': 827.43,\n",
       " 'Jack': 45.0,\n",
       " 'James': 128.87}"
      ]
     },
     "execution_count": 4,
     "metadata": {},
     "output_type": "execute_result"
    }
   ],
   "source": [
    "o_bs.bank"
   ]
  },
  {
   "cell_type": "code",
   "execution_count": 5,
   "id": "059d8bbb",
   "metadata": {},
   "outputs": [
    {
     "data": {
      "text/plain": [
       "({'Brandon': 'brandon123ABC',\n",
       "  'Jack': 'jack123POU',\n",
       "  'James': '100jamesABD',\n",
       "  'Sarah': 'sd896ssfJJH'},\n",
       " {'Brandon': False, 'Jack': False, 'James': False, 'Sarah': False})"
      ]
     },
     "execution_count": 5,
     "metadata": {},
     "output_type": "execute_result"
    }
   ],
   "source": [
    "o_bs.import_and_create_accounts()"
   ]
  },
  {
   "cell_type": "code",
   "execution_count": 6,
   "id": "92a28f2b",
   "metadata": {},
   "outputs": [
    {
     "name": "stdout",
     "output_type": "stream",
     "text": [
      "Enter username: Rosy\n",
      "Enter password: qwErdshf453sd\n",
      "Account doesnt exist,please Sign up\n",
      "Enter new_username: Rosy\n",
      "Enter password: qwErdshf453sd\n",
      "Account created successfully\n"
     ]
    }
   ],
   "source": [
    "o_bs.login() #using non-existent user"
   ]
  },
  {
   "cell_type": "code",
   "execution_count": 7,
   "id": "bccac199",
   "metadata": {},
   "outputs": [
    {
     "data": {
      "text/plain": [
       "{'Brandon': 'brandon123ABC',\n",
       " 'Jack': 'jack123POU',\n",
       " 'James': '100jamesABD',\n",
       " 'Sarah': 'sd896ssfJJH',\n",
       " 'Rosy': 'qwErdshf453sd'}"
      ]
     },
     "execution_count": 7,
     "metadata": {},
     "output_type": "execute_result"
    }
   ],
   "source": [
    "o_bs.user_accounts\n"
   ]
  },
  {
   "cell_type": "code",
   "execution_count": 8,
   "id": "110ab4f0",
   "metadata": {},
   "outputs": [
    {
     "name": "stdout",
     "output_type": "stream",
     "text": [
      "Enter username: Sarah\n",
      "Enter password: sd896ssfJJH\n"
     ]
    },
    {
     "data": {
      "text/plain": [
       "'Done'"
      ]
     },
     "execution_count": 8,
     "metadata": {},
     "output_type": "execute_result"
    }
   ],
   "source": [
    "o_bs.login()"
   ]
  },
  {
   "cell_type": "code",
   "execution_count": 9,
   "id": "fed86a21",
   "metadata": {},
   "outputs": [
    {
     "name": "stdout",
     "output_type": "stream",
     "text": [
      "Enter amount: 200\n"
     ]
    },
    {
     "data": {
      "text/plain": [
       "'Account balance is 1027.4299999999998'"
      ]
     },
     "execution_count": 9,
     "metadata": {},
     "output_type": "execute_result"
    }
   ],
   "source": [
    "o_bs.update()\n"
   ]
  },
  {
   "cell_type": "code",
   "execution_count": 10,
   "id": "4365fb3e",
   "metadata": {},
   "outputs": [
    {
     "data": {
      "text/plain": [
       "1027.4299999999998"
      ]
     },
     "execution_count": 10,
     "metadata": {},
     "output_type": "execute_result"
    }
   ],
   "source": [
    "o_bs.balance()\n"
   ]
  },
  {
   "cell_type": "code",
   "execution_count": 11,
   "id": "27ac1d7e",
   "metadata": {
    "scrolled": true
   },
   "outputs": [
    {
     "name": "stdout",
     "output_type": "stream",
     "text": [
      "Enter user A name: Sarah\n",
      "Enter user B name: Brandon\n",
      "Amount to transfer: 500\n"
     ]
    },
    {
     "data": {
      "text/plain": [
       "'Money Transfered Successfully'"
      ]
     },
     "execution_count": 11,
     "metadata": {},
     "output_type": "execute_result"
    }
   ],
   "source": [
    "o_bs.transfer()"
   ]
  },
  {
   "cell_type": "code",
   "execution_count": 12,
   "id": "fd568bcb",
   "metadata": {},
   "outputs": [
    {
     "data": {
      "text/plain": [
       "527.4299999999998"
      ]
     },
     "execution_count": 12,
     "metadata": {},
     "output_type": "execute_result"
    }
   ],
   "source": [
    "o_bs.balance()"
   ]
  },
  {
   "cell_type": "code",
   "execution_count": null,
   "id": "a411d89a",
   "metadata": {
    "collapsed": true
   },
   "outputs": [],
   "source": [
    "o_bs.delete()"
   ]
  }
 ],
 "metadata": {
  "kernelspec": {
   "display_name": "Python 3 (ipykernel)",
   "language": "python",
   "name": "python3"
  },
  "language_info": {
   "codemirror_mode": {
    "name": "ipython",
    "version": 3
   },
   "file_extension": ".py",
   "mimetype": "text/x-python",
   "name": "python",
   "nbconvert_exporter": "python",
   "pygments_lexer": "ipython3",
   "version": "3.9.13"
  }
 },
 "nbformat": 4,
 "nbformat_minor": 5
}
